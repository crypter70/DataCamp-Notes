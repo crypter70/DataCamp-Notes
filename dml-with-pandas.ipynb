{
 "cells": [
  {
   "cell_type": "markdown",
   "id": "7f10a759",
   "metadata": {},
   "source": [
    "# Data Manipulation with pandas"
   ]
  },
  {
   "cell_type": "code",
   "execution_count": 1,
   "id": "797c95e0",
   "metadata": {},
   "outputs": [],
   "source": [
    "import pandas as pd\n",
    "import numpy as np\n",
    "import matplotlib.pyplot as plt\n",
    "import pickle\n",
    "\n",
    "\n",
    "with open('data/avoplotto.pkl', 'rb') as f:\n",
    "    avocados = pickle.load(f)\n",
    "\n",
    "homelessness = pd.read_csv('data/homelessness.csv')\n",
    "sales = pd.read_csv('data/sales_subset.csv')\n",
    "temperatures = pd.read_csv('data/temperatures.csv')"
   ]
  },
  {
   "cell_type": "markdown",
   "id": "824a60ad",
   "metadata": {},
   "source": [
    "## Transforming DataFrames"
   ]
  },
  {
   "cell_type": "markdown",
   "id": "cae3df45",
   "metadata": {},
   "source": [
    "### Introduction DataFrames"
   ]
  },
  {
   "cell_type": "code",
   "execution_count": 2,
   "id": "46a5428b",
   "metadata": {},
   "outputs": [
    {
     "name": "stdout",
     "output_type": "stream",
     "text": [
      "[[0 'East South Central' 'Alabama' 2570.0 864.0 4887681]\n",
      " [1 'Pacific' 'Alaska' 1434.0 582.0 735139]\n",
      " [2 'Mountain' 'Arizona' 7259.0 2606.0 7158024]\n",
      " [3 'West South Central' 'Arkansas' 2280.0 432.0 3009733]\n",
      " [4 'Pacific' 'California' 109008.0 20964.0 39461588]\n",
      " [5 'Mountain' 'Colorado' 7607.0 3250.0 5691287]\n",
      " [6 'New England' 'Connecticut' 2280.0 1696.0 3571520]\n",
      " [7 'South Atlantic' 'Delaware' 708.0 374.0 965479]\n",
      " [8 'South Atlantic' 'District of Columbia' 3770.0 3134.0 701547]\n",
      " [9 'South Atlantic' 'Florida' 21443.0 9587.0 21244317]\n",
      " [10 'South Atlantic' 'Georgia' 6943.0 2556.0 10511131]\n",
      " [11 'Pacific' 'Hawaii' 4131.0 2399.0 1420593]\n",
      " [12 'Mountain' 'Idaho' 1297.0 715.0 1750536]\n",
      " [13 'East North Central' 'Illinois' 6752.0 3891.0 12723071]\n",
      " [14 'East North Central' 'Indiana' 3776.0 1482.0 6695497]\n",
      " [15 'West North Central' 'Iowa' 1711.0 1038.0 3148618]\n",
      " [16 'West North Central' 'Kansas' 1443.0 773.0 2911359]\n",
      " [17 'East South Central' 'Kentucky' 2735.0 953.0 4461153]\n",
      " [18 'West South Central' 'Louisiana' 2540.0 519.0 4659690]\n",
      " [19 'New England' 'Maine' 1450.0 1066.0 1339057]\n",
      " [20 'South Atlantic' 'Maryland' 4914.0 2230.0 6035802]\n",
      " [21 'New England' 'Massachusetts' 6811.0 13257.0 6882635]\n",
      " [22 'East North Central' 'Michigan' 5209.0 3142.0 9984072]\n",
      " [23 'West North Central' 'Minnesota' 3993.0 3250.0 5606249]\n",
      " [24 'East South Central' 'Mississippi' 1024.0 328.0 2981020]\n",
      " [25 'West North Central' 'Missouri' 3776.0 2107.0 6121623]\n",
      " [26 'Mountain' 'Montana' 983.0 422.0 1060665]\n",
      " [27 'West North Central' 'Nebraska' 1745.0 676.0 1925614]\n",
      " [28 'Mountain' 'Nevada' 7058.0 486.0 3027341]\n",
      " [29 'New England' 'New Hampshire' 835.0 615.0 1353465]\n",
      " [30 'Mid-Atlantic' 'New Jersey' 6048.0 3350.0 8886025]\n",
      " [31 'Mountain' 'New Mexico' 1949.0 602.0 2092741]\n",
      " [32 'Mid-Atlantic' 'New York' 39827.0 52070.0 19530351]\n",
      " [33 'South Atlantic' 'North Carolina' 6451.0 2817.0 10381615]\n",
      " [34 'West North Central' 'North Dakota' 467.0 75.0 758080]\n",
      " [35 'East North Central' 'Ohio' 6929.0 3320.0 11676341]\n",
      " [36 'West South Central' 'Oklahoma' 2823.0 1048.0 3940235]\n",
      " [37 'Pacific' 'Oregon' 11139.0 3337.0 4181886]\n",
      " [38 'Mid-Atlantic' 'Pennsylvania' 8163.0 5349.0 12800922]\n",
      " [39 'New England' 'Rhode Island' 747.0 354.0 1058287]\n",
      " [40 'South Atlantic' 'South Carolina' 3082.0 851.0 5084156]\n",
      " [41 'West North Central' 'South Dakota' 836.0 323.0 878698]\n",
      " [42 'East South Central' 'Tennessee' 6139.0 1744.0 6771631]\n",
      " [43 'West South Central' 'Texas' 19199.0 6111.0 28628666]\n",
      " [44 'Mountain' 'Utah' 1904.0 972.0 3153550]\n",
      " [45 'New England' 'Vermont' 780.0 511.0 624358]\n",
      " [46 'South Atlantic' 'Virginia' 3928.0 2047.0 8501286]\n",
      " [47 'Pacific' 'Washington' 16424.0 5880.0 7523869]\n",
      " [48 'South Atlantic' 'West Virginia' 1021.0 222.0 1804291]\n",
      " [49 'East North Central' 'Wisconsin' 2740.0 2167.0 5807406]\n",
      " [50 'Mountain' 'Wyoming' 434.0 205.0 577601]]\n",
      "Index(['Unnamed: 0', 'region', 'state', 'individuals', 'family_members',\n",
      "       'state_pop'],\n",
      "      dtype='object')\n",
      "RangeIndex(start=0, stop=51, step=1)\n"
     ]
    }
   ],
   "source": [
    "# Print the values of homelessness\n",
    "print(homelessness.values)\n",
    "\n",
    "# Print the column index of homelessness\n",
    "print(homelessness.columns)\n",
    "\n",
    "# Print the row index of homelessness\n",
    "print(homelessness.index)"
   ]
  },
  {
   "cell_type": "markdown",
   "id": "9bb792cb",
   "metadata": {},
   "source": [
    "### Sorting and Subsetting"
   ]
  },
  {
   "cell_type": "code",
   "execution_count": 3,
   "id": "ab0f09c7",
   "metadata": {},
   "outputs": [
    {
     "data": {
      "text/html": [
       "<div>\n",
       "<style scoped>\n",
       "    .dataframe tbody tr th:only-of-type {\n",
       "        vertical-align: middle;\n",
       "    }\n",
       "\n",
       "    .dataframe tbody tr th {\n",
       "        vertical-align: top;\n",
       "    }\n",
       "\n",
       "    .dataframe thead th {\n",
       "        text-align: right;\n",
       "    }\n",
       "</style>\n",
       "<table border=\"1\" class=\"dataframe\">\n",
       "  <thead>\n",
       "    <tr style=\"text-align: right;\">\n",
       "      <th></th>\n",
       "      <th>Unnamed: 0</th>\n",
       "      <th>region</th>\n",
       "      <th>state</th>\n",
       "      <th>individuals</th>\n",
       "      <th>family_members</th>\n",
       "      <th>state_pop</th>\n",
       "    </tr>\n",
       "  </thead>\n",
       "  <tbody>\n",
       "    <tr>\n",
       "      <th>50</th>\n",
       "      <td>50</td>\n",
       "      <td>Mountain</td>\n",
       "      <td>Wyoming</td>\n",
       "      <td>434.0</td>\n",
       "      <td>205.0</td>\n",
       "      <td>577601</td>\n",
       "    </tr>\n",
       "    <tr>\n",
       "      <th>34</th>\n",
       "      <td>34</td>\n",
       "      <td>West North Central</td>\n",
       "      <td>North Dakota</td>\n",
       "      <td>467.0</td>\n",
       "      <td>75.0</td>\n",
       "      <td>758080</td>\n",
       "    </tr>\n",
       "    <tr>\n",
       "      <th>7</th>\n",
       "      <td>7</td>\n",
       "      <td>South Atlantic</td>\n",
       "      <td>Delaware</td>\n",
       "      <td>708.0</td>\n",
       "      <td>374.0</td>\n",
       "      <td>965479</td>\n",
       "    </tr>\n",
       "    <tr>\n",
       "      <th>39</th>\n",
       "      <td>39</td>\n",
       "      <td>New England</td>\n",
       "      <td>Rhode Island</td>\n",
       "      <td>747.0</td>\n",
       "      <td>354.0</td>\n",
       "      <td>1058287</td>\n",
       "    </tr>\n",
       "    <tr>\n",
       "      <th>45</th>\n",
       "      <td>45</td>\n",
       "      <td>New England</td>\n",
       "      <td>Vermont</td>\n",
       "      <td>780.0</td>\n",
       "      <td>511.0</td>\n",
       "      <td>624358</td>\n",
       "    </tr>\n",
       "  </tbody>\n",
       "</table>\n",
       "</div>"
      ],
      "text/plain": [
       "    Unnamed: 0              region         state  individuals  family_members  \\\n",
       "50          50            Mountain       Wyoming        434.0           205.0   \n",
       "34          34  West North Central  North Dakota        467.0            75.0   \n",
       "7            7      South Atlantic      Delaware        708.0           374.0   \n",
       "39          39         New England  Rhode Island        747.0           354.0   \n",
       "45          45         New England       Vermont        780.0           511.0   \n",
       "\n",
       "    state_pop  \n",
       "50     577601  \n",
       "34     758080  \n",
       "7      965479  \n",
       "39    1058287  \n",
       "45     624358  "
      ]
     },
     "execution_count": 3,
     "metadata": {},
     "output_type": "execute_result"
    }
   ],
   "source": [
    "# Sort homelessness by individuals\n",
    "homelessness_ind = homelessness.sort_values(by='individuals')\n",
    "\n",
    "# Print the top few rows\n",
    "homelessness_ind.head()"
   ]
  },
  {
   "cell_type": "code",
   "execution_count": 4,
   "id": "7f4deb38",
   "metadata": {},
   "outputs": [
    {
     "data": {
      "text/html": [
       "<div>\n",
       "<style scoped>\n",
       "    .dataframe tbody tr th:only-of-type {\n",
       "        vertical-align: middle;\n",
       "    }\n",
       "\n",
       "    .dataframe tbody tr th {\n",
       "        vertical-align: top;\n",
       "    }\n",
       "\n",
       "    .dataframe thead th {\n",
       "        text-align: right;\n",
       "    }\n",
       "</style>\n",
       "<table border=\"1\" class=\"dataframe\">\n",
       "  <thead>\n",
       "    <tr style=\"text-align: right;\">\n",
       "      <th></th>\n",
       "      <th>Unnamed: 0</th>\n",
       "      <th>region</th>\n",
       "      <th>state</th>\n",
       "      <th>individuals</th>\n",
       "      <th>family_members</th>\n",
       "      <th>state_pop</th>\n",
       "    </tr>\n",
       "  </thead>\n",
       "  <tbody>\n",
       "    <tr>\n",
       "      <th>50</th>\n",
       "      <td>50</td>\n",
       "      <td>Mountain</td>\n",
       "      <td>Wyoming</td>\n",
       "      <td>434.0</td>\n",
       "      <td>205.0</td>\n",
       "      <td>577601</td>\n",
       "    </tr>\n",
       "    <tr>\n",
       "      <th>34</th>\n",
       "      <td>34</td>\n",
       "      <td>West North Central</td>\n",
       "      <td>North Dakota</td>\n",
       "      <td>467.0</td>\n",
       "      <td>75.0</td>\n",
       "      <td>758080</td>\n",
       "    </tr>\n",
       "    <tr>\n",
       "      <th>7</th>\n",
       "      <td>7</td>\n",
       "      <td>South Atlantic</td>\n",
       "      <td>Delaware</td>\n",
       "      <td>708.0</td>\n",
       "      <td>374.0</td>\n",
       "      <td>965479</td>\n",
       "    </tr>\n",
       "    <tr>\n",
       "      <th>39</th>\n",
       "      <td>39</td>\n",
       "      <td>New England</td>\n",
       "      <td>Rhode Island</td>\n",
       "      <td>747.0</td>\n",
       "      <td>354.0</td>\n",
       "      <td>1058287</td>\n",
       "    </tr>\n",
       "    <tr>\n",
       "      <th>45</th>\n",
       "      <td>45</td>\n",
       "      <td>New England</td>\n",
       "      <td>Vermont</td>\n",
       "      <td>780.0</td>\n",
       "      <td>511.0</td>\n",
       "      <td>624358</td>\n",
       "    </tr>\n",
       "  </tbody>\n",
       "</table>\n",
       "</div>"
      ],
      "text/plain": [
       "    Unnamed: 0              region         state  individuals  family_members  \\\n",
       "50          50            Mountain       Wyoming        434.0           205.0   \n",
       "34          34  West North Central  North Dakota        467.0            75.0   \n",
       "7            7      South Atlantic      Delaware        708.0           374.0   \n",
       "39          39         New England  Rhode Island        747.0           354.0   \n",
       "45          45         New England       Vermont        780.0           511.0   \n",
       "\n",
       "    state_pop  \n",
       "50     577601  \n",
       "34     758080  \n",
       "7      965479  \n",
       "39    1058287  \n",
       "45     624358  "
      ]
     },
     "execution_count": 4,
     "metadata": {},
     "output_type": "execute_result"
    }
   ],
   "source": [
    "homelessness_ind.sort_values([\"individuals\", \"family_members\"], ascending=[True, False])\n",
    "homelessness_ind.head(5)"
   ]
  },
  {
   "cell_type": "code",
   "execution_count": 5,
   "id": "b1fc8344",
   "metadata": {},
   "outputs": [
    {
     "data": {
      "text/plain": [
       "0      2570.0\n",
       "1      1434.0\n",
       "2      7259.0\n",
       "3      2280.0\n",
       "4    109008.0\n",
       "Name: individuals, dtype: float64"
      ]
     },
     "execution_count": 5,
     "metadata": {},
     "output_type": "execute_result"
    }
   ],
   "source": [
    "# Select the individuals column\n",
    "individuals = homelessness['individuals']\n",
    "\n",
    "# Print the head of the result\n",
    "individuals.head()"
   ]
  },
  {
   "cell_type": "code",
   "execution_count": 6,
   "id": "364ed225",
   "metadata": {},
   "outputs": [
    {
     "name": "stdout",
     "output_type": "stream",
     "text": [
      "    Unnamed: 0              region       state  individuals  family_members  \\\n",
      "4            4             Pacific  California     109008.0         20964.0   \n",
      "9            9      South Atlantic     Florida      21443.0          9587.0   \n",
      "32          32        Mid-Atlantic    New York      39827.0         52070.0   \n",
      "37          37             Pacific      Oregon      11139.0          3337.0   \n",
      "43          43  West South Central       Texas      19199.0          6111.0   \n",
      "47          47             Pacific  Washington      16424.0          5880.0   \n",
      "\n",
      "    state_pop  \n",
      "4    39461588  \n",
      "9    21244317  \n",
      "32   19530351  \n",
      "37    4181886  \n",
      "43   28628666  \n",
      "47    7523869  \n"
     ]
    }
   ],
   "source": [
    "ind_gt_10k = homelessness[homelessness['individuals'] > 10000]\n",
    "\n",
    "# See the result\n",
    "print(ind_gt_10k)"
   ]
  },
  {
   "cell_type": "code",
   "execution_count": 7,
   "id": "8e98985b",
   "metadata": {},
   "outputs": [
    {
     "name": "stdout",
     "output_type": "stream",
     "text": [
      "    Unnamed: 0          region                 state  individuals  \\\n",
      "7            7  South Atlantic              Delaware        708.0   \n",
      "8            8  South Atlantic  District of Columbia       3770.0   \n",
      "9            9  South Atlantic               Florida      21443.0   \n",
      "10          10  South Atlantic               Georgia       6943.0   \n",
      "20          20  South Atlantic              Maryland       4914.0   \n",
      "30          30    Mid-Atlantic            New Jersey       6048.0   \n",
      "32          32    Mid-Atlantic              New York      39827.0   \n",
      "33          33  South Atlantic        North Carolina       6451.0   \n",
      "38          38    Mid-Atlantic          Pennsylvania       8163.0   \n",
      "40          40  South Atlantic        South Carolina       3082.0   \n",
      "46          46  South Atlantic              Virginia       3928.0   \n",
      "48          48  South Atlantic         West Virginia       1021.0   \n",
      "\n",
      "    family_members  state_pop  \n",
      "7            374.0     965479  \n",
      "8           3134.0     701547  \n",
      "9           9587.0   21244317  \n",
      "10          2556.0   10511131  \n",
      "20          2230.0    6035802  \n",
      "30          3350.0    8886025  \n",
      "32         52070.0   19530351  \n",
      "33          2817.0   10381615  \n",
      "38          5349.0   12800922  \n",
      "40           851.0    5084156  \n",
      "46          2047.0    8501286  \n",
      "48           222.0    1804291  \n"
     ]
    }
   ],
   "source": [
    "# Subset for rows in South Atlantic or Mid-Atlantic regions\n",
    "south_mid_atlantic = homelessness[(homelessness['region'] == 'South Atlantic') | (homelessness['region'] == 'Mid-Atlantic')]\n",
    "\n",
    "# See the result\n",
    "print(south_mid_atlantic)"
   ]
  },
  {
   "cell_type": "markdown",
   "id": "28c4ee15",
   "metadata": {},
   "source": [
    "### New Columns"
   ]
  },
  {
   "cell_type": "code",
   "execution_count": 8,
   "id": "5e117bcd",
   "metadata": {},
   "outputs": [
    {
     "data": {
      "text/html": [
       "<div>\n",
       "<style scoped>\n",
       "    .dataframe tbody tr th:only-of-type {\n",
       "        vertical-align: middle;\n",
       "    }\n",
       "\n",
       "    .dataframe tbody tr th {\n",
       "        vertical-align: top;\n",
       "    }\n",
       "\n",
       "    .dataframe thead th {\n",
       "        text-align: right;\n",
       "    }\n",
       "</style>\n",
       "<table border=\"1\" class=\"dataframe\">\n",
       "  <thead>\n",
       "    <tr style=\"text-align: right;\">\n",
       "      <th></th>\n",
       "      <th>Unnamed: 0</th>\n",
       "      <th>region</th>\n",
       "      <th>state</th>\n",
       "      <th>individuals</th>\n",
       "      <th>family_members</th>\n",
       "      <th>state_pop</th>\n",
       "      <th>total</th>\n",
       "      <th>p_individuals</th>\n",
       "    </tr>\n",
       "  </thead>\n",
       "  <tbody>\n",
       "    <tr>\n",
       "      <th>0</th>\n",
       "      <td>0</td>\n",
       "      <td>East South Central</td>\n",
       "      <td>Alabama</td>\n",
       "      <td>2570.0</td>\n",
       "      <td>864.0</td>\n",
       "      <td>4887681</td>\n",
       "      <td>3434.0</td>\n",
       "      <td>0.748398</td>\n",
       "    </tr>\n",
       "    <tr>\n",
       "      <th>1</th>\n",
       "      <td>1</td>\n",
       "      <td>Pacific</td>\n",
       "      <td>Alaska</td>\n",
       "      <td>1434.0</td>\n",
       "      <td>582.0</td>\n",
       "      <td>735139</td>\n",
       "      <td>2016.0</td>\n",
       "      <td>0.711310</td>\n",
       "    </tr>\n",
       "    <tr>\n",
       "      <th>2</th>\n",
       "      <td>2</td>\n",
       "      <td>Mountain</td>\n",
       "      <td>Arizona</td>\n",
       "      <td>7259.0</td>\n",
       "      <td>2606.0</td>\n",
       "      <td>7158024</td>\n",
       "      <td>9865.0</td>\n",
       "      <td>0.735834</td>\n",
       "    </tr>\n",
       "    <tr>\n",
       "      <th>3</th>\n",
       "      <td>3</td>\n",
       "      <td>West South Central</td>\n",
       "      <td>Arkansas</td>\n",
       "      <td>2280.0</td>\n",
       "      <td>432.0</td>\n",
       "      <td>3009733</td>\n",
       "      <td>2712.0</td>\n",
       "      <td>0.840708</td>\n",
       "    </tr>\n",
       "    <tr>\n",
       "      <th>4</th>\n",
       "      <td>4</td>\n",
       "      <td>Pacific</td>\n",
       "      <td>California</td>\n",
       "      <td>109008.0</td>\n",
       "      <td>20964.0</td>\n",
       "      <td>39461588</td>\n",
       "      <td>129972.0</td>\n",
       "      <td>0.838704</td>\n",
       "    </tr>\n",
       "  </tbody>\n",
       "</table>\n",
       "</div>"
      ],
      "text/plain": [
       "   Unnamed: 0              region       state  individuals  family_members  \\\n",
       "0           0  East South Central     Alabama       2570.0           864.0   \n",
       "1           1             Pacific      Alaska       1434.0           582.0   \n",
       "2           2            Mountain     Arizona       7259.0          2606.0   \n",
       "3           3  West South Central    Arkansas       2280.0           432.0   \n",
       "4           4             Pacific  California     109008.0         20964.0   \n",
       "\n",
       "   state_pop     total  p_individuals  \n",
       "0    4887681    3434.0       0.748398  \n",
       "1     735139    2016.0       0.711310  \n",
       "2    7158024    9865.0       0.735834  \n",
       "3    3009733    2712.0       0.840708  \n",
       "4   39461588  129972.0       0.838704  "
      ]
     },
     "execution_count": 8,
     "metadata": {},
     "output_type": "execute_result"
    }
   ],
   "source": [
    "# Add total col as sum of individuals and family_members\n",
    "homelessness['total'] = homelessness['individuals'] + homelessness['family_members']\n",
    "\n",
    "# Add p_individuals col as proportion of total that are individuals\n",
    "homelessness['p_individuals'] = homelessness['individuals'] / homelessness['total']\n",
    "\n",
    "# See the result\n",
    "homelessness.head()"
   ]
  },
  {
   "cell_type": "markdown",
   "id": "fd8834fd",
   "metadata": {},
   "source": [
    "## Aggregating DataFrames"
   ]
  },
  {
   "cell_type": "markdown",
   "id": "3814300f",
   "metadata": {},
   "source": [
    "### Summary Statistics"
   ]
  },
  {
   "cell_type": "code",
   "execution_count": 9,
   "id": "60dd75ca",
   "metadata": {},
   "outputs": [
    {
     "name": "stdout",
     "output_type": "stream",
     "text": [
      "23843.950148505668\n",
      "12049.064999999999\n",
      "2012-10-26\n",
      "2010-02-05\n"
     ]
    }
   ],
   "source": [
    "# Print the mean of weekly_sales\n",
    "print(sales['weekly_sales'].mean())\n",
    "\n",
    "# Print the median of weekly_sales\n",
    "print(sales['weekly_sales'].median())\n",
    "\n",
    "# Print the maximum of the date column\n",
    "print(sales['date'].max())\n",
    "\n",
    "# Print the minimum of the date column\n",
    "print(sales['date'].min())"
   ]
  },
  {
   "cell_type": "code",
   "execution_count": 10,
   "id": "45afe736",
   "metadata": {},
   "outputs": [
    {
     "name": "stdout",
     "output_type": "stream",
     "text": [
      "16.583333333333336\n"
     ]
    }
   ],
   "source": [
    "# A custom IQR function\n",
    "def iqr(column):\n",
    "    return column.quantile(0.75) - column.quantile(0.25)\n",
    "    \n",
    "# Print IQR of the temperature_c column\n",
    "print(sales['temperature_c'].agg(iqr))"
   ]
  },
  {
   "cell_type": "code",
   "execution_count": 11,
   "id": "7ad2ed6b",
   "metadata": {},
   "outputs": [
    {
     "name": "stdout",
     "output_type": "stream",
     "text": [
      "             date  weekly_sales  cum_weekly_sales  cum_max_sales\n",
      "0      2010-02-05      24924.50      2.492450e+04       24924.50\n",
      "6437   2010-02-05      38597.52      6.352202e+04       38597.52\n",
      "1249   2010-02-05       3840.21      6.736223e+04       38597.52\n",
      "6449   2010-02-05      17590.59      8.495282e+04       38597.52\n",
      "6461   2010-02-05       4929.87      8.988269e+04       38597.52\n",
      "...           ...           ...               ...            ...\n",
      "3592   2012-10-05        440.00      2.568932e+08      293966.05\n",
      "8108   2012-10-05        660.00      2.568938e+08      293966.05\n",
      "10773  2012-10-05        915.00      2.568947e+08      293966.05\n",
      "6257   2012-10-12          3.00      2.568947e+08      293966.05\n",
      "3384   2012-10-26        -21.63      2.568947e+08      293966.05\n",
      "\n",
      "[10774 rows x 4 columns]\n"
     ]
    }
   ],
   "source": [
    "# Sort sales_1_1 by date\n",
    "sales_1_1 = sales.sort_values(by='date')\n",
    "\n",
    "# Get the cumulative sum of weekly_sales, add as cum_weekly_sales col\n",
    "sales_1_1['cum_weekly_sales'] = sales_1_1['weekly_sales'].cumsum()\n",
    "\n",
    "# Get the cumulative max of weekly_sales, add as cum_max_sales col\n",
    "sales_1_1['cum_max_sales'] = sales_1_1['weekly_sales'].cummax()\n",
    "\n",
    "# See the columns you calculated\n",
    "print(sales_1_1[[\"date\", \"weekly_sales\", \"cum_weekly_sales\", \"cum_max_sales\"]])"
   ]
  },
  {
   "cell_type": "markdown",
   "id": "073d1ded",
   "metadata": {},
   "source": [
    "### Counting"
   ]
  },
  {
   "cell_type": "code",
   "execution_count": 12,
   "id": "653e1ff5",
   "metadata": {},
   "outputs": [
    {
     "name": "stdout",
     "output_type": "stream",
     "text": [
      "      Unnamed: 0  store type  department        date  weekly_sales  \\\n",
      "0              0      1    A           1  2010-02-05      24924.50   \n",
      "901          901      2    A           1  2010-02-05      35034.06   \n",
      "1798        1798      4    A           1  2010-02-05      38724.42   \n",
      "2699        2699      6    A           1  2010-02-05      25619.00   \n",
      "3593        3593     10    B           1  2010-02-05      40212.84   \n",
      "\n",
      "      is_holiday  temperature_c  fuel_price_usd_per_l  unemployment  \n",
      "0          False       5.727778              0.679451         8.106  \n",
      "901        False       4.550000              0.679451         8.324  \n",
      "1798       False       6.533333              0.686319         8.623  \n",
      "2699       False       4.683333              0.679451         7.259  \n",
      "3593       False      12.411111              0.782478         9.765  \n",
      "    Unnamed: 0  store type  department        date  weekly_sales  is_holiday  \\\n",
      "0            0      1    A           1  2010-02-05      24924.50       False   \n",
      "12          12      1    A           2  2010-02-05      50605.27       False   \n",
      "24          24      1    A           3  2010-02-05      13740.12       False   \n",
      "36          36      1    A           4  2010-02-05      39954.04       False   \n",
      "48          48      1    A           5  2010-02-05      32229.38       False   \n",
      "\n",
      "    temperature_c  fuel_price_usd_per_l  unemployment  \n",
      "0        5.727778              0.679451         8.106  \n",
      "12       5.727778              0.679451         8.106  \n",
      "24       5.727778              0.679451         8.106  \n",
      "36       5.727778              0.679451         8.106  \n",
      "48       5.727778              0.679451         8.106  \n",
      "498     2010-09-10\n",
      "691     2011-11-25\n",
      "2315    2010-02-12\n",
      "6735    2012-09-07\n",
      "6810    2010-12-31\n",
      "6815    2012-02-10\n",
      "6820    2011-09-09\n",
      "Name: date, dtype: object\n"
     ]
    }
   ],
   "source": [
    "# Drop duplicate store/type combinations\n",
    "store_types = sales.drop_duplicates(subset=['store', 'type'])\n",
    "print(store_types.head())\n",
    "\n",
    "# Drop duplicate store/department combinations\n",
    "store_depts = sales.drop_duplicates(subset=['store', 'department'])\n",
    "print(store_depts.head())\n",
    "\n",
    "# Subset the rows where is_holiday is True and drop duplicate dates\n",
    "holiday_dates = sales[sales['is_holiday']].drop_duplicates(subset='date')\n",
    "\n",
    "# Print date col of holiday_dates\n",
    "print(holiday_dates['date'])"
   ]
  },
  {
   "cell_type": "markdown",
   "id": "2a66ee0b",
   "metadata": {},
   "source": [
    "### Grouped Summary Statistics"
   ]
  },
  {
   "cell_type": "code",
   "execution_count": 13,
   "id": "babc854e",
   "metadata": {},
   "outputs": [
    {
     "name": "stdout",
     "output_type": "stream",
     "text": [
      "[0.9097747 0.0902253 0.       ]\n"
     ]
    }
   ],
   "source": [
    "# Calc total weekly sales\n",
    "sales_all = sales[\"weekly_sales\"].sum()\n",
    "\n",
    "# Subset for type A stores, calc total weekly sales\n",
    "sales_A = sales[sales[\"type\"] == \"A\"][\"weekly_sales\"].sum()\n",
    "\n",
    "# Subset for type B stores, calc total weekly sales\n",
    "sales_B = sales[sales[\"type\"] == \"B\"][\"weekly_sales\"].sum()\n",
    "\n",
    "# Subset for type C stores, calc total weekly sales\n",
    "sales_C = sales[sales[\"type\"] == \"C\"][\"weekly_sales\"].sum()\n",
    "\n",
    "# Get proportion for each type\n",
    "sales_propn_by_type = [sales_A, sales_B, sales_C] / sales_all\n",
    "print(sales_propn_by_type)"
   ]
  },
  {
   "cell_type": "code",
   "execution_count": 14,
   "id": "de5d6423",
   "metadata": {},
   "outputs": [
    {
     "name": "stdout",
     "output_type": "stream",
     "text": [
      "type\n",
      "A    0.909775\n",
      "B    0.090225\n",
      "Name: weekly_sales, dtype: float64\n"
     ]
    }
   ],
   "source": [
    "# Group by type; calc total weekly sales\n",
    "sales_by_type = sales.groupby(\"type\")[\"weekly_sales\"].sum()\n",
    "\n",
    "# Get proportion for each type\n",
    "sales_propn_by_type = sales_by_type / sum(sales_by_type)\n",
    "print(sales_propn_by_type)"
   ]
  },
  {
   "cell_type": "code",
   "execution_count": 15,
   "id": "b28a9b74",
   "metadata": {},
   "outputs": [
    {
     "name": "stdout",
     "output_type": "stream",
     "text": [
      "         min        max          mean    median\n",
      "type                                           \n",
      "A    -1098.0  293966.05  23674.667242  11943.92\n",
      "B     -798.0  232558.51  25696.678370  13336.08\n",
      "     unemployment                         fuel_price_usd_per_l            \\\n",
      "              min    max      mean median                  min       max   \n",
      "type                                                                       \n",
      "A           3.879  8.992  7.972611  8.067             0.664129  1.107410   \n",
      "B           7.170  9.765  9.279323  9.199             0.760023  1.107674   \n",
      "\n",
      "                          \n",
      "          mean    median  \n",
      "type                      \n",
      "A     0.744619  0.735455  \n",
      "B     0.805858  0.803348  \n"
     ]
    }
   ],
   "source": [
    "# For each store type, aggregate weekly_sales: get min, max, mean, and median\n",
    "sales_stats = sales.groupby('type')['weekly_sales'].agg([min, max, np.mean, np.median])\n",
    "\n",
    "# Print sales_stats\n",
    "print(sales_stats)\n",
    "\n",
    "# For each store type, aggregate unemployment and fuel_price_usd_per_l: get min, max, mean, and median\n",
    "unemp_fuel_stats = sales.groupby('type')[['unemployment', 'fuel_price_usd_per_l']].agg([min, max, np.mean, np.median])\n",
    "\n",
    "# Print unemp_fuel_stats\n",
    "print(unemp_fuel_stats)"
   ]
  },
  {
   "cell_type": "markdown",
   "id": "74795ade",
   "metadata": {},
   "source": [
    "### Pivot Tables"
   ]
  },
  {
   "cell_type": "code",
   "execution_count": 16,
   "id": "1af2d94f",
   "metadata": {},
   "outputs": [
    {
     "name": "stdout",
     "output_type": "stream",
     "text": [
      "      weekly_sales\n",
      "type              \n",
      "A     23674.667242\n",
      "B     25696.678370\n"
     ]
    }
   ],
   "source": [
    "# Pivot for mean weekly_sales for each store type\n",
    "mean_sales_by_type = sales.pivot_table(values='weekly_sales', index='type')\n",
    "\n",
    "# Print mean_sales_by_type\n",
    "print(mean_sales_by_type)"
   ]
  },
  {
   "cell_type": "code",
   "execution_count": 17,
   "id": "ce8e1ff4",
   "metadata": {},
   "outputs": [
    {
     "name": "stdout",
     "output_type": "stream",
     "text": [
      "type                    A              B\n",
      "department                              \n",
      "1            30961.725379   44050.626667\n",
      "2            67600.158788  112958.526667\n",
      "3            17160.002955   30580.655000\n",
      "4            44285.399091   51219.654167\n",
      "5            34821.011364   63236.875000\n",
      "...                   ...            ...\n",
      "95          123933.787121   77082.102500\n",
      "96           21367.042857    9528.538333\n",
      "97           28471.266970    5828.873333\n",
      "98           12875.423182     217.428333\n",
      "99             379.123659       0.000000\n",
      "\n",
      "[80 rows x 2 columns]\n"
     ]
    }
   ],
   "source": [
    "# Print mean weekly_sales by department and type; fill missing values with 0\n",
    "print(sales.pivot_table(values='weekly_sales', index='department', columns='type', fill_value=0))"
   ]
  },
  {
   "cell_type": "markdown",
   "id": "48413fd8",
   "metadata": {},
   "source": [
    "## Slicing and Indexing DataFrames"
   ]
  },
  {
   "cell_type": "markdown",
   "id": "b40581ec",
   "metadata": {},
   "source": [
    "### Explicit Indexes "
   ]
  },
  {
   "cell_type": "code",
   "execution_count": 18,
   "id": "64b50a43",
   "metadata": {},
   "outputs": [
    {
     "name": "stdout",
     "output_type": "stream",
     "text": [
      "       Unnamed: 0        date     city        country  avg_temp_c\n",
      "0               0  2000-01-01  Abidjan  Côte D'Ivoire      27.293\n",
      "1               1  2000-02-01  Abidjan  Côte D'Ivoire      27.685\n",
      "2               2  2000-03-01  Abidjan  Côte D'Ivoire      29.061\n",
      "3               3  2000-04-01  Abidjan  Côte D'Ivoire      28.162\n",
      "4               4  2000-05-01  Abidjan  Côte D'Ivoire      27.547\n",
      "...           ...         ...      ...            ...         ...\n",
      "16495       16495  2013-05-01     Xian          China      18.979\n",
      "16496       16496  2013-06-01     Xian          China      23.522\n",
      "16497       16497  2013-07-01     Xian          China      25.251\n",
      "16498       16498  2013-08-01     Xian          China      24.528\n",
      "16499       16499  2013-09-01     Xian          China         NaN\n",
      "\n",
      "[16500 rows x 5 columns]\n",
      "         Unnamed: 0        date        country  avg_temp_c\n",
      "city                                                      \n",
      "Abidjan           0  2000-01-01  Côte D'Ivoire      27.293\n",
      "Abidjan           1  2000-02-01  Côte D'Ivoire      27.685\n",
      "Abidjan           2  2000-03-01  Côte D'Ivoire      29.061\n",
      "Abidjan           3  2000-04-01  Côte D'Ivoire      28.162\n",
      "Abidjan           4  2000-05-01  Côte D'Ivoire      27.547\n",
      "...             ...         ...            ...         ...\n",
      "Xian          16495  2013-05-01          China      18.979\n",
      "Xian          16496  2013-06-01          China      23.522\n",
      "Xian          16497  2013-07-01          China      25.251\n",
      "Xian          16498  2013-08-01          China      24.528\n",
      "Xian          16499  2013-09-01          China         NaN\n",
      "\n",
      "[16500 rows x 4 columns]\n",
      "          city  Unnamed: 0        date        country  avg_temp_c\n",
      "0      Abidjan           0  2000-01-01  Côte D'Ivoire      27.293\n",
      "1      Abidjan           1  2000-02-01  Côte D'Ivoire      27.685\n",
      "2      Abidjan           2  2000-03-01  Côte D'Ivoire      29.061\n",
      "3      Abidjan           3  2000-04-01  Côte D'Ivoire      28.162\n",
      "4      Abidjan           4  2000-05-01  Côte D'Ivoire      27.547\n",
      "...        ...         ...         ...            ...         ...\n",
      "16495     Xian       16495  2013-05-01          China      18.979\n",
      "16496     Xian       16496  2013-06-01          China      23.522\n",
      "16497     Xian       16497  2013-07-01          China      25.251\n",
      "16498     Xian       16498  2013-08-01          China      24.528\n",
      "16499     Xian       16499  2013-09-01          China         NaN\n",
      "\n",
      "[16500 rows x 5 columns]\n",
      "       Unnamed: 0        date        country  avg_temp_c\n",
      "0               0  2000-01-01  Côte D'Ivoire      27.293\n",
      "1               1  2000-02-01  Côte D'Ivoire      27.685\n",
      "2               2  2000-03-01  Côte D'Ivoire      29.061\n",
      "3               3  2000-04-01  Côte D'Ivoire      28.162\n",
      "4               4  2000-05-01  Côte D'Ivoire      27.547\n",
      "...           ...         ...            ...         ...\n",
      "16495       16495  2013-05-01          China      18.979\n",
      "16496       16496  2013-06-01          China      23.522\n",
      "16497       16497  2013-07-01          China      25.251\n",
      "16498       16498  2013-08-01          China      24.528\n",
      "16499       16499  2013-09-01          China         NaN\n",
      "\n",
      "[16500 rows x 4 columns]\n"
     ]
    }
   ],
   "source": [
    "# Look at temperatures\n",
    "print(temperatures)\n",
    "\n",
    "# Set the index of temperatures to city\n",
    "temperatures_ind = temperatures.set_index('city')\n",
    "\n",
    "# Look at temperatures_ind\n",
    "print(temperatures_ind)\n",
    "\n",
    "# Reset the temperatures_ind index, keeping its contents\n",
    "print(temperatures_ind.reset_index())\n",
    "\n",
    "# Reset the temperatures_ind index, dropping its contents\n",
    "print(temperatures_ind.reset_index(drop=True))"
   ]
  },
  {
   "cell_type": "code",
   "execution_count": 19,
   "id": "ab1bf0a1",
   "metadata": {},
   "outputs": [
    {
     "name": "stdout",
     "output_type": "stream",
     "text": [
      "       Unnamed: 0        date              city country  avg_temp_c\n",
      "10725       10725  2000-01-01            Moscow  Russia      -7.313\n",
      "10726       10726  2000-02-01            Moscow  Russia      -3.551\n",
      "10727       10727  2000-03-01            Moscow  Russia      -1.661\n",
      "10728       10728  2000-04-01            Moscow  Russia      10.096\n",
      "10729       10729  2000-05-01            Moscow  Russia      10.357\n",
      "...           ...         ...               ...     ...         ...\n",
      "13360       13360  2013-05-01  Saint Petersburg  Russia      12.355\n",
      "13361       13361  2013-06-01  Saint Petersburg  Russia      17.185\n",
      "13362       13362  2013-07-01  Saint Petersburg  Russia      17.234\n",
      "13363       13363  2013-08-01  Saint Petersburg  Russia      17.153\n",
      "13364       13364  2013-09-01  Saint Petersburg  Russia         NaN\n",
      "\n",
      "[330 rows x 5 columns]\n",
      "                  Unnamed: 0        date country  avg_temp_c\n",
      "city                                                        \n",
      "Moscow                 10725  2000-01-01  Russia      -7.313\n",
      "Moscow                 10726  2000-02-01  Russia      -3.551\n",
      "Moscow                 10727  2000-03-01  Russia      -1.661\n",
      "Moscow                 10728  2000-04-01  Russia      10.096\n",
      "Moscow                 10729  2000-05-01  Russia      10.357\n",
      "...                      ...         ...     ...         ...\n",
      "Saint Petersburg       13360  2013-05-01  Russia      12.355\n",
      "Saint Petersburg       13361  2013-06-01  Russia      17.185\n",
      "Saint Petersburg       13362  2013-07-01  Russia      17.234\n",
      "Saint Petersburg       13363  2013-08-01  Russia      17.153\n",
      "Saint Petersburg       13364  2013-09-01  Russia         NaN\n",
      "\n",
      "[330 rows x 4 columns]\n"
     ]
    }
   ],
   "source": [
    "# Make a list of cities to subset on\n",
    "cities = [\"Moscow\", \"Saint Petersburg\"]\n",
    "\n",
    "# Subset temperatures using square brackets\n",
    "print(temperatures[temperatures['city'].isin(cities)])\n",
    "\n",
    "# Subset temperatures_ind using .loc[]\n",
    "print(temperatures_ind.loc[cities])"
   ]
  },
  {
   "cell_type": "code",
   "execution_count": 20,
   "id": "cf6b4afd",
   "metadata": {},
   "outputs": [
    {
     "name": "stdout",
     "output_type": "stream",
     "text": [
      "                         Unnamed: 0        date  avg_temp_c\n",
      "country  city                                              \n",
      "Brazil   Rio De Janeiro       12540  2000-01-01      25.974\n",
      "         Rio De Janeiro       12541  2000-02-01      26.699\n",
      "         Rio De Janeiro       12542  2000-03-01      26.270\n",
      "         Rio De Janeiro       12543  2000-04-01      25.750\n",
      "         Rio De Janeiro       12544  2000-05-01      24.356\n",
      "...                             ...         ...         ...\n",
      "Pakistan Lahore                8575  2013-05-01      33.457\n",
      "         Lahore                8576  2013-06-01      34.456\n",
      "         Lahore                8577  2013-07-01      33.279\n",
      "         Lahore                8578  2013-08-01      31.511\n",
      "         Lahore                8579  2013-09-01         NaN\n",
      "\n",
      "[330 rows x 3 columns]\n"
     ]
    }
   ],
   "source": [
    "# Index temperatures by country & city\n",
    "temperatures_ind = temperatures.set_index(['country', 'city'])\n",
    "\n",
    "# List of tuples: Brazil, Rio De Janeiro & Pakistan, Lahore\n",
    "rows_to_keep = [('Brazil', 'Rio De Janeiro'), ('Pakistan', 'Lahore')]\n",
    "\n",
    "# Subset for rows to keep\n",
    "print(temperatures_ind.loc[rows_to_keep])"
   ]
  },
  {
   "cell_type": "markdown",
   "id": "b54ce326",
   "metadata": {},
   "source": [
    "### Slicing and Subsetting with .loc and .iloc"
   ]
  },
  {
   "cell_type": "code",
   "execution_count": 21,
   "id": "4a0029e7",
   "metadata": {},
   "outputs": [
    {
     "name": "stdout",
     "output_type": "stream",
     "text": [
      "                           Unnamed: 0        date  avg_temp_c\n",
      "country  city                                                \n",
      "Pakistan Faisalabad              4785  2000-01-01      12.792\n",
      "         Faisalabad              4786  2000-02-01      14.339\n",
      "         Faisalabad              4787  2000-03-01      20.309\n",
      "         Faisalabad              4788  2000-04-01      29.072\n",
      "         Faisalabad              4789  2000-05-01      34.845\n",
      "...                               ...         ...         ...\n",
      "Russia   Saint Petersburg       13360  2013-05-01      12.355\n",
      "         Saint Petersburg       13361  2013-06-01      17.185\n",
      "         Saint Petersburg       13362  2013-07-01      17.234\n",
      "         Saint Petersburg       13363  2013-08-01      17.153\n",
      "         Saint Petersburg       13364  2013-09-01         NaN\n",
      "\n",
      "[1155 rows x 3 columns]\n",
      "                    Unnamed: 0        date  avg_temp_c\n",
      "country city                                          \n",
      "Mexico  Mexico           10230  2000-01-01      12.694\n",
      "        Mexico           10231  2000-02-01      14.677\n",
      "        Mexico           10232  2000-03-01      17.376\n",
      "        Mexico           10233  2000-04-01      18.294\n",
      "        Mexico           10234  2000-05-01      18.562\n",
      "...                        ...         ...         ...\n",
      "Morocco Casablanca        3130  2013-05-01      19.217\n",
      "        Casablanca        3131  2013-06-01      23.649\n",
      "        Casablanca        3132  2013-07-01      27.488\n",
      "        Casablanca        3133  2013-08-01      27.952\n",
      "        Casablanca        3134  2013-09-01         NaN\n",
      "\n",
      "[330 rows x 3 columns]\n",
      "                 Unnamed: 0        date  avg_temp_c\n",
      "country  city                                      \n",
      "Pakistan Lahore        8415  2000-01-01      12.792\n",
      "         Lahore        8416  2000-02-01      14.339\n",
      "         Lahore        8417  2000-03-01      20.309\n",
      "         Lahore        8418  2000-04-01      29.072\n",
      "         Lahore        8419  2000-05-01      34.845\n",
      "...                     ...         ...         ...\n",
      "Russia   Moscow       10885  2013-05-01      16.152\n",
      "         Moscow       10886  2013-06-01      18.718\n",
      "         Moscow       10887  2013-07-01      18.136\n",
      "         Moscow       10888  2013-08-01      17.485\n",
      "         Moscow       10889  2013-09-01         NaN\n",
      "\n",
      "[660 rows x 3 columns]\n"
     ]
    }
   ],
   "source": [
    "# Sort the index of temperatures_ind\n",
    "temperatures_srt = temperatures_ind.sort_index()\n",
    "\n",
    "# Subset rows from Pakistan to Russia\n",
    "print(temperatures_srt.loc[\"Pakistan\":\"Russia\"])\n",
    "\n",
    "# Try to subset rows from Lahore to Moscow\n",
    "print(temperatures_srt.loc[\"Lahore\":\"Moscow\"])\n",
    "\n",
    "# Subset rows from Pakistan, Lahore to Russia, Moscow\n",
    "print(temperatures_srt.loc[(\"Pakistan\", \"Lahore\"):(\"Russia\", \"Moscow\")])"
   ]
  },
  {
   "cell_type": "markdown",
   "id": "605cac15",
   "metadata": {},
   "source": [
    "### Working with Pivot Tables"
   ]
  },
  {
   "cell_type": "code",
   "execution_count": 22,
   "id": "93b6abb5",
   "metadata": {},
   "outputs": [],
   "source": [
    "# # Add a year column to temperatures\n",
    "# temperatures['year'] = temperatures['date'].dt.year\n",
    "\n",
    "# # Pivot avg_temp_c by country and city vs year\n",
    "# temp_by_country_city_vs_year = temperatures.pivot_table('avg_temp_c', index=['country', 'city'], columns='year')\n",
    "\n",
    "# # See the result\n",
    "# print(temp_by_country_city_vs_year)"
   ]
  },
  {
   "cell_type": "markdown",
   "id": "a9be9e54",
   "metadata": {},
   "source": [
    "## Creating and Visualizing DataFrames"
   ]
  },
  {
   "cell_type": "markdown",
   "id": "d70bb79c",
   "metadata": {},
   "source": [
    "### Visualizing your data"
   ]
  },
  {
   "cell_type": "code",
   "execution_count": 23,
   "id": "97c09236",
   "metadata": {},
   "outputs": [
    {
     "name": "stdout",
     "output_type": "stream",
     "text": [
      "         date          type  year  avg_price   size     nb_sold\n",
      "0  2015-12-27  conventional  2015       0.95  small  9626901.09\n",
      "1  2015-12-20  conventional  2015       0.98  small  8710021.76\n",
      "2  2015-12-13  conventional  2015       0.93  small  9855053.66\n",
      "3  2015-12-06  conventional  2015       0.89  small  9405464.36\n",
      "4  2015-11-29  conventional  2015       0.99  small  8094803.56\n"
     ]
    },
    {
     "data": {
      "image/png": "[encoded data removed]",
      "text/plain": [
       "<Figure size 640x480 with 1 Axes>"
      ]
     },
     "metadata": {},
     "output_type": "display_data"
    }
   ],
   "source": [
    "print(avocados.head())\n",
    "\n",
    "# Get the total number of avocados sold of each size\n",
    "nb_sold_by_size = avocados.groupby('size')['nb_sold'].sum()\n",
    "\n",
    "# Create a bar plot of the number of avocados sold by size\n",
    "nb_sold_by_size.plot(kind='bar')\n",
    "\n",
    "# Show the plot\n",
    "plt.show()"
   ]
  },
  {
   "cell_type": "code",
   "execution_count": 24,
   "id": "02c80905",
   "metadata": {},
   "outputs": [
    {
     "data": {
      "image/png": "[encoded data removed]",
      "text/plain": [
       "<Figure size 640x480 with 1 Axes>"
      ]
     },
     "metadata": {},
     "output_type": "display_data"
    }
   ],
   "source": [
    "# Get the total number of avocados sold on each date\n",
    "nb_sold_by_date = avocados.groupby('date')['nb_sold'].sum()\n",
    "\n",
    "# Create a line plot of the number of avocados sold by date\n",
    "nb_sold_by_date.plot(x='date', y='nb_sold', kind='line')\n",
    "\n",
    "# Show the plot\n",
    "plt.show()"
   ]
  },
  {
   "cell_type": "code",
   "execution_count": 25,
   "id": "09ead771",
   "metadata": {},
   "outputs": [
    {
     "data": {
      "image/png": "[encoded data removed]",
      "text/plain": [
       "<Figure size 640x480 with 1 Axes>"
      ]
     },
     "metadata": {},
     "output_type": "display_data"
    }
   ],
   "source": [
    "# Scatter plot of avg_price vs. nb_sold with title\n",
    "avocados.plot(x='nb_sold', y='avg_price', kind='scatter', title='Number of avocados sold vs. average price')\n",
    "\n",
    "# Show the plot\n",
    "plt.show()"
   ]
  },
  {
   "cell_type": "code",
   "execution_count": 26,
   "id": "680fb555",
   "metadata": {},
   "outputs": [
    {
     "data": {
      "image/png": "[encoded data removed]",
      "text/plain": [
       "<Figure size 640x480 with 1 Axes>"
      ]
     },
     "metadata": {},
     "output_type": "display_data"
    }
   ],
   "source": [
    "# Histogram of conventional avg_price \n",
    "avocados[avocados['type'] == 'conventional']['avg_price'].hist()\n",
    "\n",
    "# Histogram of organic avg_price\n",
    "avocados[avocados['type'] == 'organic']['avg_price'].hist()\n",
    "\n",
    "# Add a legend\n",
    "plt.legend(['conventional', 'organic'])\n",
    "\n",
    "# Show the plot\n",
    "plt.show()"
   ]
  },
  {
   "cell_type": "markdown",
   "id": "4c0073b5",
   "metadata": {},
   "source": [
    "### Missing values"
   ]
  },
  {
   "cell_type": "code",
   "execution_count": 29,
   "id": "25d33401",
   "metadata": {},
   "outputs": [
    {
     "name": "stdout",
     "output_type": "stream",
     "text": [
      "       date   type   year  avg_price   size  nb_sold\n",
      "0     False  False  False      False  False    False\n",
      "1     False  False  False      False  False    False\n",
      "2     False  False  False      False  False    False\n",
      "3     False  False  False      False  False    False\n",
      "4     False  False  False      False  False    False\n",
      "...     ...    ...    ...        ...    ...      ...\n",
      "1009  False  False  False      False  False    False\n",
      "1010  False  False  False      False  False    False\n",
      "1011  False  False  False      False  False    False\n",
      "1012  False  False  False      False  False    False\n",
      "1013  False  False  False      False  False    False\n",
      "\n",
      "[1014 rows x 6 columns]\n",
      "date         False\n",
      "type         False\n",
      "year         False\n",
      "avg_price    False\n",
      "size         False\n",
      "nb_sold      False\n",
      "dtype: bool\n"
     ]
    },
    {
     "data": {
      "image/png": "[encoded data removed]",
      "text/plain": [
       "<Figure size 640x480 with 1 Axes>"
      ]
     },
     "metadata": {},
     "output_type": "display_data"
    }
   ],
   "source": [
    "# Check individual values for missing values\n",
    "print(avocados.isna())\n",
    "\n",
    "# Check each column for missing values\n",
    "print(avocados.isna().any())\n",
    "\n",
    "# Bar plot of missing values by variable\n",
    "avocados.isna().sum().plot(kind='bar')\n",
    "\n",
    "# Show plot\n",
    "plt.show()"
   ]
  },
  {
   "cell_type": "code",
   "execution_count": 30,
   "id": "fcf5317f",
   "metadata": {},
   "outputs": [
    {
     "name": "stdout",
     "output_type": "stream",
     "text": [
      "date         False\n",
      "type         False\n",
      "year         False\n",
      "avg_price    False\n",
      "size         False\n",
      "nb_sold      False\n",
      "dtype: bool\n"
     ]
    }
   ],
   "source": [
    "# Remove rows with missing values\n",
    "avocados_complete = avocados.dropna()\n",
    "\n",
    "# Check if any columns contain missing values\n",
    "print(avocados_complete.isna().any())"
   ]
  },
  {
   "cell_type": "markdown",
   "id": "39fe62c4",
   "metadata": {},
   "source": [
    "### Creating DataFrames"
   ]
  },
  {
   "cell_type": "code",
   "execution_count": null,
   "id": "800fd866",
   "metadata": {},
   "outputs": [],
   "source": []
  },
  {
   "cell_type": "markdown",
   "id": "25b66afa",
   "metadata": {},
   "source": [
    "### Reading and writing CSVs"
   ]
  },
  {
   "cell_type": "code",
   "execution_count": null,
   "id": "e39f0e91",
   "metadata": {},
   "outputs": [],
   "source": []
  }
 ],
 "metadata": {
  "kernelspec": {
   "display_name": "Python 3 (ipykernel)",
   "language": "python",
   "name": "python3"
  },
  "language_info": {
   "codemirror_mode": {
    "name": "ipython",
    "version": 3
   },
   "file_extension": ".py",
   "mimetype": "text/x-python",
   "name": "python",
   "nbconvert_exporter": "python",
   "pygments_lexer": "ipython3",
   "version": "3.9.13"
  }
 },
 "nbformat": 4,
 "nbformat_minor": 5
}
